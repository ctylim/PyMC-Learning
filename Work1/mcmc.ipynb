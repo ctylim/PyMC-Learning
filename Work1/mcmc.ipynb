{
 "cells": [
  {
   "cell_type": "code",
   "execution_count": 62,
   "metadata": {},
   "outputs": [
    {
     "name": "stdout",
     "output_type": "stream",
     "text": [
      "(300,)\n"
     ]
    }
   ],
   "source": [
    "import pymc3 as pm\n",
    "import theano.tensor as T\n",
    "import numpy as np\n",
    "import matplotlib.pyplot as plt\n",
    "\n",
    "data = np.loadtxt(\"data/mixture_data.csv\", delimiter=\",\")\n",
    "print(data.shape)"
   ]
  },
  {
   "cell_type": "code",
   "execution_count": 69,
   "metadata": {},
   "outputs": [
    {
     "name": "stdout",
     "output_type": "stream",
     "text": [
      "[1 0 1 1 0 0 0 1 1 1 1 0 0 0 1 1 1 1 1 0 1 0 1 1 1 1 0 0 0 0 0 0 1 0 1 1 1\n",
      " 1 1 1 1 1 1 0 0 0 1 1 0 0 0 0 0 1 0 1 0 0 1 0 0 1 1 0 1 0 0 0 1 0 1 0 0 0\n",
      " 1 1 0 1 1 0 1 0 1 1 0 0 1 1 0 1 1 0 1 0 1 1 1 0 0 0 1 1 0 1 0 0 0 1 0 1 0\n",
      " 1 1 1 1 0 0 0 1 1 0 1 1 1 1 0 0 1 1 1 0 1 1 0 0 0 0 0 0 1 1 0 1 0 0 1 0 0\n",
      " 0 1 1 0 0 1 1 0 0 0 0 1 0 1 0 1 0 0 1 1 1 0 0 0 1 1 1 0 1 0 1 1 0 1 0 1 0\n",
      " 0 0 1 1 0 0 1 0 0 1 0 1 1 1 0 0 1 1 1 0 1 0 1 0 1 1 0 0 0 0 0 1 1 0 0 0 0\n",
      " 0 1 1 1 0 1 1 0 1 0 0 1 0 0 0 1 1 1 1 1 1 1 0 0 1 0 0 1 1 0 0 0 0 0 1 0 1\n",
      " 0 0 0 0 0 0 1 0 0 1 0 0 1 1 1 1 0 1 1 0 0 0 0 1 1 0 1 0 0 1 1 1 0 1 0 0 1\n",
      " 0 1 1 0]\n",
      "<class 'theano.tensor.var.TensorVariable'>\n",
      "[0.5 0.5]\n",
      "[1 0 1 1 0 0 0 1 1 1 1 0 0 0 1 1 1 1 1 0 1 0 1 1 1 1 0 0 0 0 0 0 1 0 1 1 1\n",
      " 1 1 1 1 1 1 0 0 0 1 1 0 0 0 0 0 1 0 1 0 0 1 0 0 1 1 0 1 0 0 0 1 0 1 0 0 0\n",
      " 1 1 0 1 1 0 1 0 1 1 0 0 1 1 0 1 1 0 1 0 1 1 1 0 0 0 1 1 0 1 0 0 0 1 0 1 0\n",
      " 1 1 1 1 0 0 0 1 1 0 1 1 1 1 0 0 1 1 1 0 1 1 0 0 0 0 0 0 1 1 0 1 0 0 1 0 0\n",
      " 0 1 1 0 0 1 1 0 0 0 0 1 0 1 0 1 0 0 1 1 1 0 0 0 1 1 1 0 1 0 1 1 0 1 0 1 0\n",
      " 0 0 1 1 0 0 1 0 0 1 0 1 1 1 0 0 1 1 1 0 1 0 1 0 1 1 0 0 0 0 0 1 1 0 0 0 0\n",
      " 0 1 1 1 0 1 1 0 1 0 0 1 0 0 0 1 1 1 1 1 1 1 0 0 1 0 0 1 1 0 0 0 0 0 1 0 1\n",
      " 0 0 0 0 0 0 1 0 0 1 0 0 1 1 1 1 0 1 1 0 0 0 0 1 1 0 1 0 0 1 1 1 0 1 0 0 1\n",
      " 0 1 1 0]\n"
     ]
    }
   ],
   "source": [
    "with pm.Model() as model:\n",
    "    p1 = pm.Uniform('p', 0, 1)\n",
    "    p2 = 1 - p1\n",
    "    p = T.stack([p1, p2])\n",
    "    val = np.random.randint(0, 2, data.shape[0])\n",
    "    print(val)\n",
    "    assignment = pm.Categorical(\"assignment\", p, \n",
    "                                shape=data.shape[0],\n",
    "                                testval=val)\n",
    "    \n",
    "print(type(p))\n",
    "print(p.tag.test_value)\n",
    "print(assignment.tag.test_value)"
   ]
  }
 ],
 "metadata": {
  "kernelspec": {
   "display_name": "Python 3",
   "language": "python",
   "name": "python3"
  },
  "language_info": {
   "codemirror_mode": {
    "name": "ipython",
    "version": 3
   },
   "file_extension": ".py",
   "mimetype": "text/x-python",
   "name": "python",
   "nbconvert_exporter": "python",
   "pygments_lexer": "ipython3",
   "version": "3.6.3"
  }
 },
 "nbformat": 4,
 "nbformat_minor": 2
}
